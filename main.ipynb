{
 "cells": [
  {
   "cell_type": "code",
   "execution_count": 15,
   "metadata": {
    "ExecuteTime": {
     "end_time": "2023-10-27T10:00:22.567189Z",
     "start_time": "2023-10-27T10:00:22.564463Z"
    }
   },
   "outputs": [],
   "source": [
    "import pandas as pd\n",
    "import numpy as np\n",
    "import json\n"
   ]
  },
  {
   "cell_type": "markdown",
   "metadata": {},
   "source": [
    "# Importing files"
   ]
  },
  {
   "cell_type": "code",
   "execution_count": 16,
   "metadata": {
    "ExecuteTime": {
     "end_time": "2023-10-27T10:00:23.972420Z",
     "start_time": "2023-10-27T10:00:23.403958Z"
    }
   },
   "outputs": [],
   "source": [
    "folder = 'tmdb-box-office-prediction'\n",
    "\n",
    "trainingData = pd.read_csv(f'{folder}/train.csv')\n",
    "testData = pd.read_csv(f'{folder}/test.csv')\n"
   ]
  },
  {
   "cell_type": "markdown",
   "metadata": {},
   "source": [
    "## Dividing into features and label"
   ]
  },
  {
   "cell_type": "code",
   "execution_count": 17,
   "metadata": {
    "ExecuteTime": {
     "end_time": "2023-10-27T10:00:24.802134Z",
     "start_time": "2023-10-27T10:00:24.799874Z"
    }
   },
   "outputs": [],
   "source": [
    "dropFields = ['homepage', 'original_title', 'imdb_id',\n",
    "              'status', 'title', 'tagline', 'poster_path', 'overview', 'belongs_to_collection']\n",
    "dropFields2 = ['Keywords', 'cast', 'crew', 'spoken_languages', 'production_countries', 'production_companies', 'genres']\n",
    "trainingData = trainingData.drop(columns=dropFields + dropFields2)\n",
    "#print(trainingData.size)"
   ]
  },
  {
   "cell_type": "code",
   "execution_count": 18,
   "outputs": [
    {
     "data": {
      "text/plain": "Index(['id', 'budget', 'original_language', 'popularity', 'release_date',\n       'runtime', 'revenue'],\n      dtype='object')"
     },
     "execution_count": 18,
     "metadata": {},
     "output_type": "execute_result"
    }
   ],
   "source": [
    "trainingData.keys()"
   ],
   "metadata": {
    "collapsed": false,
    "ExecuteTime": {
     "end_time": "2023-10-27T10:00:25.222400Z",
     "start_time": "2023-10-27T10:00:25.217569Z"
    }
   }
  },
  {
   "cell_type": "code",
   "execution_count": 19,
   "outputs": [],
   "source": [
    "#mean_value =\n",
    "#trainingData[''].fillna(value=mean_value, inplace=True)"
   ],
   "metadata": {
    "collapsed": false,
    "ExecuteTime": {
     "end_time": "2023-10-27T10:00:25.596453Z",
     "start_time": "2023-10-27T10:00:25.594042Z"
    }
   }
  },
  {
   "cell_type": "markdown",
   "source": [
    "### Converting string to int"
   ],
   "metadata": {
    "collapsed": false
   }
  },
  {
   "cell_type": "code",
   "execution_count": 44,
   "outputs": [],
   "source": [
    "trainingData.head(10)\n",
    "trainingData['original_language'].value_counts()\n",
    "\n",
    "langauges = ['en', 'ja', 'es', 'no', 'fr', 'ko', 'zh', 'sv', 'cn', 'ru', 'id', 'hi', 'it', 'de', 'ta', 'nl', 'pt', 'fa', 'da', 'ro', 'te', 'hu', 'ml', 'pl', 'fi', 'ur', 'he', 'el', 'ar', 'nb', 'vi', 'mr', 'cs', 'sr', 'bn', 'tr']\n",
    "languageId = [x for x in range(len(langauges))]\n",
    "\n",
    "trainingData = trainingData.replace(to_replace=langauges, value=languageId)\n",
    "\n",
    "\n"
   ],
   "metadata": {
    "collapsed": false,
    "ExecuteTime": {
     "end_time": "2023-10-27T10:48:31.887677Z",
     "start_time": "2023-10-27T10:48:31.883437Z"
    }
   }
  },
  {
   "cell_type": "markdown",
   "metadata": {},
   "source": [
    "# Datacleaning"
   ]
  },
  {
   "cell_type": "code",
   "execution_count": 21,
   "outputs": [
    {
     "data": {
      "text/plain": "'def convertProductComp(field):\\n    field = field.replace(\"\\'\", \\'\"\\')\\n    data = json.loads(field)\\n    indexes = [item[\\'id\\'] for item in data]\\n    print(indexes)\\n    return indexes'"
     },
     "execution_count": 21,
     "metadata": {},
     "output_type": "execute_result"
    }
   ],
   "source": [
    "'''def convertProductComp(field):\n",
    "    field = field.replace(\"'\", '\"')\n",
    "    data = json.loads(field)\n",
    "    indexes = [item['id'] for item in data]\n",
    "    print(indexes)\n",
    "    return indexes'''"
   ],
   "metadata": {
    "collapsed": false,
    "ExecuteTime": {
     "end_time": "2023-10-27T10:00:27.459938Z",
     "start_time": "2023-10-27T10:00:27.454052Z"
    }
   }
  },
  {
   "cell_type": "code",
   "execution_count": 23,
   "outputs": [],
   "source": [
    "# Convert date to milliseconds\n",
    "from datetime import datetime\n",
    "\n",
    "for key in trainingData['release_date'].keys():\n",
    "    try:\n",
    "        date_string = str(trainingData['release_date'][key])\n",
    "\n",
    "        date_obj = datetime.strptime(date_string, '%m/%d/%y')\n",
    "        epoch = datetime(1970, 1, 1)\n",
    "        time_difference = date_obj - epoch\n",
    "\n",
    "        milliseconds = int(time_difference.total_seconds() * 1000)\n",
    "        trainingData = trainingData.replace(trainingData['release_date'][key], milliseconds)\n",
    "    except:\n",
    "        trainingData = trainingData.drop([key])\n",
    "\n"
   ],
   "metadata": {
    "collapsed": false,
    "ExecuteTime": {
     "end_time": "2023-10-27T10:00:29.508703Z",
     "start_time": "2023-10-27T10:00:28.727245Z"
    }
   }
  },
  {
   "cell_type": "code",
   "execution_count": 25,
   "outputs": [],
   "source": [
    "# Replace all NaN budget values with mean value\n",
    "\n",
    "meanVal = trainingData['budget'].mean()\n",
    "\n",
    "trainingData['budget'].fillna(meanVal, inplace=True)\n",
    "\n",
    "# Replace all NaN runtime values with mean value\n",
    "meanVal = trainingData['runtime'].mean()\n",
    "\n",
    "trainingData['runtime'].fillna(meanVal, inplace=True)\n"
   ],
   "metadata": {
    "collapsed": false,
    "ExecuteTime": {
     "end_time": "2023-10-27T10:00:30.170469Z",
     "start_time": "2023-10-27T10:00:30.165066Z"
    }
   }
  },
  {
   "cell_type": "code",
   "execution_count": 26,
   "outputs": [
    {
     "data": {
      "text/plain": "Empty DataFrame\nColumns: [id, budget, original_language, popularity, release_date, runtime, revenue]\nIndex: []",
      "text/html": "<div>\n<style scoped>\n    .dataframe tbody tr th:only-of-type {\n        vertical-align: middle;\n    }\n\n    .dataframe tbody tr th {\n        vertical-align: top;\n    }\n\n    .dataframe thead th {\n        text-align: right;\n    }\n</style>\n<table border=\"1\" class=\"dataframe\">\n  <thead>\n    <tr style=\"text-align: right;\">\n      <th></th>\n      <th>id</th>\n      <th>budget</th>\n      <th>original_language</th>\n      <th>popularity</th>\n      <th>release_date</th>\n      <th>runtime</th>\n      <th>revenue</th>\n    </tr>\n  </thead>\n  <tbody>\n  </tbody>\n</table>\n</div>"
     },
     "execution_count": 26,
     "metadata": {},
     "output_type": "execute_result"
    }
   ],
   "source": [
    "nan_mask = trainingData.isna()\n",
    "\n",
    "# Filter the DataFrame to show rows with NaN values\n",
    "rows_with_nan = trainingData[nan_mask.any(axis=1)]\n",
    "\n",
    "rows_with_nan"
   ],
   "metadata": {
    "collapsed": false,
    "ExecuteTime": {
     "end_time": "2023-10-27T10:00:30.716391Z",
     "start_time": "2023-10-27T10:00:30.711995Z"
    }
   }
  },
  {
   "cell_type": "markdown",
   "metadata": {},
   "source": [
    "# ML"
   ]
  },
  {
   "cell_type": "code",
   "execution_count": 30,
   "outputs": [],
   "source": [
    "try:\n",
    "    label = trainingData['revenue']\n",
    "    id = trainingData['id']\n",
    "except:\n",
    "    pass\n",
    "\n",
    "features = trainingData.drop(columns='revenue')\n",
    "\n",
    "X, y = features, label"
   ],
   "metadata": {
    "collapsed": false,
    "ExecuteTime": {
     "end_time": "2023-10-27T10:09:57.912482Z",
     "start_time": "2023-10-27T10:09:57.907390Z"
    }
   }
  },
  {
   "cell_type": "code",
   "execution_count": 31,
   "outputs": [],
   "source": [
    "# Predicting with the inserted model\n",
    "def predictWithModel(model):\n",
    "    model.fit(X_train, y_train)\n",
    "    return model.predict(X_test)\n"
   ],
   "metadata": {
    "collapsed": false,
    "ExecuteTime": {
     "end_time": "2023-10-27T10:09:58.717665Z",
     "start_time": "2023-10-27T10:09:58.712438Z"
    }
   }
  },
  {
   "cell_type": "code",
   "execution_count": 32,
   "outputs": [],
   "source": [
    "# Determine the scores based on the model prediction:\n",
    "def determineScore(y_pred):\n",
    "    measures = {'mse': mean_squared_error, 'mae' :mean_absolute_error, 'r2':r2_score}\n",
    "    predsDict = {}\n",
    "    for key in measures.keys():\n",
    "        predsDict[key] = measures[key](y_test, y_pred)\n",
    "    #predsDict['mse'] = mean_squared_error(y_test, y_pred)\n",
    "    #predsDict['mae'] = mean_absolute_error(y_test, y_pred)\n",
    "    #predsDict['r2'] = r2_score(y_test, y_pred)\n",
    "\n",
    "    return predsDict\n"
   ],
   "metadata": {
    "collapsed": false,
    "ExecuteTime": {
     "end_time": "2023-10-27T10:09:59.375919Z",
     "start_time": "2023-10-27T10:09:59.370021Z"
    }
   }
  },
  {
   "cell_type": "code",
   "execution_count": 45,
   "metadata": {
    "ExecuteTime": {
     "end_time": "2023-10-27T10:50:12.908756Z",
     "start_time": "2023-10-27T10:50:12.206348Z"
    }
   },
   "outputs": [],
   "source": [
    "from sklearn.metrics import mean_squared_error, mean_absolute_error, r2_score\n",
    "from sklearn.linear_model import LinearRegression, BayesianRidge\n",
    "from sklearn.ensemble import RandomForestRegressor\n",
    "from sklearn.tree import DecisionTreeRegressor\n",
    "from sklearn.model_selection import train_test_split\n",
    "\n",
    "models = {\"Linear reg\":LinearRegression(),\n",
    "          \"Random forest\":RandomForestRegressor(n_estimators=100),\n",
    "          \"Decition tree\":DecisionTreeRegressor(),\n",
    "          \"Bayesian ridge\": BayesianRidge()}\n",
    "\n",
    "X_train, X_test, y_train, y_test = train_test_split(X, y, test_size=0.2, random_state=42)\n",
    "\n",
    "\n",
    "predModelsDict = {}\n",
    "\n",
    "for key in models.keys():\n",
    "    predModelsDict[key] = predictWithModel(models[key])\n",
    "\n",
    "\n",
    "\n",
    "\n",
    "\n"
   ]
  },
  {
   "cell_type": "code",
   "execution_count": 77,
   "outputs": [
    {
     "name": "stdout",
     "output_type": "stream",
     "text": [
      "\n",
      "Linear reg:\n",
      "Mse: 7465725108484834.0\n",
      "Mae: 44308334.34034504\n",
      "R2: 0.6804396446987501\n",
      "\n",
      "Random forest:\n",
      "Mse: 6490984618128975.0\n",
      "Mae: 41039956.4451875\n",
      "R2: 0.7221621047275322\n",
      "\n",
      "Decition tree:\n",
      "Mse: 1.0919180211806934e+16\n",
      "Mae: 55119802.93541667\n",
      "R2: 0.5326191284329834\n",
      "\n",
      "Bayesian ridge:\n",
      "Mse: 8021187133691922.0\n",
      "Mae: 45325544.97828892\n",
      "R2: 0.6566638373187281\n"
     ]
    }
   ],
   "source": [
    "# Printing results from the models\n",
    "\n",
    "mesureDict = {'mse': [], 'mae': [], 'r2': []}\n",
    "\n",
    "for key in predModelsDict.keys():\n",
    "    data = determineScore(predModelsDict[key])\n",
    "    print(f'\\n{key}:')\n",
    "    for key1 in data.keys():\n",
    "        print(f\"{key1.capitalize()}: {data[key1]}\")\n",
    "\n",
    "        mesureDict[key1].append(data[key1])\n",
    "        mesureDict[key1].sort()\n",
    "        if key1.lower() == 'r2':\n",
    "            mesureDict[key1].sort(reverse=True)\n",
    "\n",
    "\n",
    "\n",
    "\n",
    "\n",
    "\n"
   ],
   "metadata": {
    "collapsed": false,
    "ExecuteTime": {
     "end_time": "2023-10-27T11:10:34.535056Z",
     "start_time": "2023-10-27T11:10:34.531005Z"
    }
   }
  },
  {
   "cell_type": "code",
   "execution_count": 78,
   "outputs": [
    {
     "name": "stdout",
     "output_type": "stream",
     "text": [
      "\n",
      "mse: \t[6490984618128975.0, 7465725108484834.0, 8021187133691922.0, 1.0919180211806934e+16]\n",
      "mae: \t[41039956.4451875, 44308334.34034504, 45325544.97828892, 55119802.93541667]\n",
      "r2: \t[0.7221621047275322, 0.6804396446987501, 0.6566638373187281, 0.5326191284329834]\n"
     ]
    }
   ],
   "source": [
    "print()\n",
    "for key in mesureDict.keys():\n",
    "    print(f'{key}: \\t{mesureDict[key]}')"
   ],
   "metadata": {
    "collapsed": false,
    "ExecuteTime": {
     "end_time": "2023-10-27T11:10:36.166868Z",
     "start_time": "2023-10-27T11:10:36.162486Z"
    }
   }
  },
  {
   "cell_type": "markdown",
   "metadata": {},
   "source": [
    "# Deploy"
   ]
  },
  {
   "cell_type": "markdown",
   "metadata": {},
   "source": []
  }
 ],
 "metadata": {
  "kernelspec": {
   "display_name": "Python 3",
   "language": "python",
   "name": "python3"
  },
  "language_info": {
   "codemirror_mode": {
    "name": "ipython",
    "version": 3
   },
   "file_extension": ".py",
   "mimetype": "text/x-python",
   "name": "python",
   "nbconvert_exporter": "python",
   "pygments_lexer": "ipython3",
   "version": "3.11.4"
  }
 },
 "nbformat": 4,
 "nbformat_minor": 2
}
