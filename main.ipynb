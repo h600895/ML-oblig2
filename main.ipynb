{
 "cells": [
  {
   "cell_type": "code",
   "execution_count": 255,
   "metadata": {
    "ExecuteTime": {
     "end_time": "2023-10-26T12:55:43.810172Z",
     "start_time": "2023-10-26T12:55:43.808172Z"
    }
   },
   "outputs": [],
   "source": [
    "import pandas as pd\n",
    "import numpy as np\n",
    "import json\n"
   ]
  },
  {
   "cell_type": "markdown",
   "metadata": {},
   "source": [
    "# Importing files"
   ]
  },
  {
   "cell_type": "code",
   "execution_count": 256,
   "metadata": {
    "ExecuteTime": {
     "end_time": "2023-10-26T12:55:44.738276Z",
     "start_time": "2023-10-26T12:55:44.083776Z"
    }
   },
   "outputs": [],
   "source": [
    "folder = 'tmdb-box-office-prediction'\n",
    "\n",
    "trainingData = pd.read_csv(f'{folder}/train.csv')\n",
    "testData = pd.read_csv(f'{folder}/test.csv')\n"
   ]
  },
  {
   "cell_type": "markdown",
   "metadata": {},
   "source": [
    "## Dividing into features and label"
   ]
  },
  {
   "cell_type": "code",
   "execution_count": 257,
   "metadata": {
    "ExecuteTime": {
     "end_time": "2023-10-26T12:55:44.742988Z",
     "start_time": "2023-10-26T12:55:44.739946Z"
    }
   },
   "outputs": [],
   "source": [
    "try:\n",
    "    label = trainingData['revenue']\n",
    "    id = trainingData['id']\n",
    "except:\n",
    "    pass\n",
    "dropFields = ['homepage', 'revenue', 'id', 'original_title', 'imdb_id',\n",
    "              'status', 'title', 'tagline', 'poster_path', 'overview', 'belongs_to_collection']\n",
    "dropFields2 = ['Keywords', 'cast', 'crew', 'spoken_languages', 'production_countries']\n",
    "features = trainingData.drop(columns=dropFields + dropFields2)\n",
    "#print(trainingData.size)"
   ]
  },
  {
   "cell_type": "code",
   "execution_count": 258,
   "outputs": [
    {
     "data": {
      "text/plain": "Index(['budget', 'genres', 'original_language', 'popularity',\n       'production_companies', 'release_date', 'runtime'],\n      dtype='object')"
     },
     "execution_count": 258,
     "metadata": {},
     "output_type": "execute_result"
    }
   ],
   "source": [
    "features.keys()"
   ],
   "metadata": {
    "collapsed": false,
    "ExecuteTime": {
     "end_time": "2023-10-26T12:55:44.744890Z",
     "start_time": "2023-10-26T12:55:44.742793Z"
    }
   }
  },
  {
   "cell_type": "code",
   "execution_count": 259,
   "outputs": [],
   "source": [
    "#mean_value =\n",
    "#trainingData[''].fillna(value=mean_value, inplace=True)"
   ],
   "metadata": {
    "collapsed": false,
    "ExecuteTime": {
     "end_time": "2023-10-26T12:55:44.751626Z",
     "start_time": "2023-10-26T12:55:44.745888Z"
    }
   }
  },
  {
   "cell_type": "markdown",
   "source": [
    "### Converting string to int"
   ],
   "metadata": {
    "collapsed": false
   }
  },
  {
   "cell_type": "code",
   "execution_count": 260,
   "outputs": [
    {
     "data": {
      "text/plain": "        budget                                             genres  \\\n0     14000000                     [{'id': 35, 'name': 'Comedy'}]   \n1     40000000  [{'id': 35, 'name': 'Comedy'}, {'id': 18, 'nam...   \n2      3300000                      [{'id': 18, 'name': 'Drama'}]   \n3      1200000  [{'id': 53, 'name': 'Thriller'}, {'id': 18, 'n...   \n4            0  [{'id': 28, 'name': 'Action'}, {'id': 53, 'nam...   \n...        ...                                                ...   \n2995         0  [{'id': 35, 'name': 'Comedy'}, {'id': 10749, '...   \n2996         0  [{'id': 18, 'name': 'Drama'}, {'id': 10402, 'n...   \n2997  65000000  [{'id': 80, 'name': 'Crime'}, {'id': 28, 'name...   \n2998  42000000  [{'id': 35, 'name': 'Comedy'}, {'id': 10749, '...   \n2999  35000000  [{'id': 53, 'name': 'Thriller'}, {'id': 28, 'n...   \n\n     original_language  popularity  \\\n0                    0    6.575393   \n1                    0    8.248895   \n2                    0   64.299990   \n3                   hi    3.174936   \n4                    5    1.148070   \n...                ...         ...   \n2995                 0    9.853270   \n2996                 7    3.727996   \n2997                 0   14.482345   \n2998                 0   15.725542   \n2999                 0   10.512109   \n\n                                   production_companies release_date  runtime  \n0     [{'name': 'Paramount Pictures', 'id': 4}, {'na...      2/20/15     93.0  \n1           [{'name': 'Walt Disney Pictures', 'id': 2}]       8/6/04    113.0  \n2     [{'name': 'Bold Films', 'id': 2266}, {'name': ...     10/10/14    105.0  \n3                                                   NaN       3/9/12    122.0  \n4                                                   NaN       2/5/09    118.0  \n...                                                 ...          ...      ...  \n2995  [{'name': 'Warner Bros.', 'id': 6194}, {'name'...      4/22/94    102.0  \n2996  [{'name': 'Memfis Film', 'id': 321}, {'name': ...      3/28/13    102.0  \n2997  [{'name': 'New Line Cinema', 'id': 12}, {'name...     10/11/96    120.0  \n2998  [{'name': 'Jersey Films', 'id': 216}, {'name':...      1/16/04     90.0  \n2999  [{'name': 'Lions Gate Films', 'id': 35}, {'nam...      9/22/11    106.0  \n\n[3000 rows x 7 columns]",
      "text/html": "<div>\n<style scoped>\n    .dataframe tbody tr th:only-of-type {\n        vertical-align: middle;\n    }\n\n    .dataframe tbody tr th {\n        vertical-align: top;\n    }\n\n    .dataframe thead th {\n        text-align: right;\n    }\n</style>\n<table border=\"1\" class=\"dataframe\">\n  <thead>\n    <tr style=\"text-align: right;\">\n      <th></th>\n      <th>budget</th>\n      <th>genres</th>\n      <th>original_language</th>\n      <th>popularity</th>\n      <th>production_companies</th>\n      <th>release_date</th>\n      <th>runtime</th>\n    </tr>\n  </thead>\n  <tbody>\n    <tr>\n      <th>0</th>\n      <td>14000000</td>\n      <td>[{'id': 35, 'name': 'Comedy'}]</td>\n      <td>0</td>\n      <td>6.575393</td>\n      <td>[{'name': 'Paramount Pictures', 'id': 4}, {'na...</td>\n      <td>2/20/15</td>\n      <td>93.0</td>\n    </tr>\n    <tr>\n      <th>1</th>\n      <td>40000000</td>\n      <td>[{'id': 35, 'name': 'Comedy'}, {'id': 18, 'nam...</td>\n      <td>0</td>\n      <td>8.248895</td>\n      <td>[{'name': 'Walt Disney Pictures', 'id': 2}]</td>\n      <td>8/6/04</td>\n      <td>113.0</td>\n    </tr>\n    <tr>\n      <th>2</th>\n      <td>3300000</td>\n      <td>[{'id': 18, 'name': 'Drama'}]</td>\n      <td>0</td>\n      <td>64.299990</td>\n      <td>[{'name': 'Bold Films', 'id': 2266}, {'name': ...</td>\n      <td>10/10/14</td>\n      <td>105.0</td>\n    </tr>\n    <tr>\n      <th>3</th>\n      <td>1200000</td>\n      <td>[{'id': 53, 'name': 'Thriller'}, {'id': 18, 'n...</td>\n      <td>hi</td>\n      <td>3.174936</td>\n      <td>NaN</td>\n      <td>3/9/12</td>\n      <td>122.0</td>\n    </tr>\n    <tr>\n      <th>4</th>\n      <td>0</td>\n      <td>[{'id': 28, 'name': 'Action'}, {'id': 53, 'nam...</td>\n      <td>5</td>\n      <td>1.148070</td>\n      <td>NaN</td>\n      <td>2/5/09</td>\n      <td>118.0</td>\n    </tr>\n    <tr>\n      <th>...</th>\n      <td>...</td>\n      <td>...</td>\n      <td>...</td>\n      <td>...</td>\n      <td>...</td>\n      <td>...</td>\n      <td>...</td>\n    </tr>\n    <tr>\n      <th>2995</th>\n      <td>0</td>\n      <td>[{'id': 35, 'name': 'Comedy'}, {'id': 10749, '...</td>\n      <td>0</td>\n      <td>9.853270</td>\n      <td>[{'name': 'Warner Bros.', 'id': 6194}, {'name'...</td>\n      <td>4/22/94</td>\n      <td>102.0</td>\n    </tr>\n    <tr>\n      <th>2996</th>\n      <td>0</td>\n      <td>[{'id': 18, 'name': 'Drama'}, {'id': 10402, 'n...</td>\n      <td>7</td>\n      <td>3.727996</td>\n      <td>[{'name': 'Memfis Film', 'id': 321}, {'name': ...</td>\n      <td>3/28/13</td>\n      <td>102.0</td>\n    </tr>\n    <tr>\n      <th>2997</th>\n      <td>65000000</td>\n      <td>[{'id': 80, 'name': 'Crime'}, {'id': 28, 'name...</td>\n      <td>0</td>\n      <td>14.482345</td>\n      <td>[{'name': 'New Line Cinema', 'id': 12}, {'name...</td>\n      <td>10/11/96</td>\n      <td>120.0</td>\n    </tr>\n    <tr>\n      <th>2998</th>\n      <td>42000000</td>\n      <td>[{'id': 35, 'name': 'Comedy'}, {'id': 10749, '...</td>\n      <td>0</td>\n      <td>15.725542</td>\n      <td>[{'name': 'Jersey Films', 'id': 216}, {'name':...</td>\n      <td>1/16/04</td>\n      <td>90.0</td>\n    </tr>\n    <tr>\n      <th>2999</th>\n      <td>35000000</td>\n      <td>[{'id': 53, 'name': 'Thriller'}, {'id': 28, 'n...</td>\n      <td>0</td>\n      <td>10.512109</td>\n      <td>[{'name': 'Lions Gate Films', 'id': 35}, {'nam...</td>\n      <td>9/22/11</td>\n      <td>106.0</td>\n    </tr>\n  </tbody>\n</table>\n<p>3000 rows × 7 columns</p>\n</div>"
     },
     "execution_count": 260,
     "metadata": {},
     "output_type": "execute_result"
    }
   ],
   "source": [
    "features.head(10)\n",
    "features['original_language'].value_counts()\n",
    "\n",
    "langauges = ['en', 'ja', 'es', 'no', 'fr', 'ko', 'zh', 'sv', 'cn', 'ru', 'id']\n",
    "languageId = [x for x in range(len(langauges))]\n",
    "\n",
    "features.replace(to_replace=langauges, value=languageId)\n",
    "\n",
    "\n"
   ],
   "metadata": {
    "collapsed": false,
    "ExecuteTime": {
     "end_time": "2023-10-26T12:55:44.903730Z",
     "start_time": "2023-10-26T12:55:44.889977Z"
    }
   }
  },
  {
   "cell_type": "markdown",
   "metadata": {},
   "source": [
    "# Visualization"
   ]
  },
  {
   "cell_type": "code",
   "execution_count": 261,
   "outputs": [],
   "source": [
    "def convertProductComp(field):\n",
    "    string = field\n",
    "    listOfId = []\n",
    "    field = field.replace(\"'\", '\"')\n",
    "    listOfDict = json.loads(field)\n",
    "    for dict in listOfDict:\n",
    "        listOfId.append(dict['id'])\n",
    "    return listOfId"
   ],
   "metadata": {
    "collapsed": false,
    "ExecuteTime": {
     "end_time": "2023-10-26T12:55:45.315820Z",
     "start_time": "2023-10-26T12:55:45.311091Z"
    }
   }
  },
  {
   "cell_type": "code",
   "execution_count": 262,
   "outputs": [
    {
     "data": {
      "text/plain": "        budget                                             genres  \\\n0     14000000                     [{'id': 35, 'name': 'Comedy'}]   \n1     40000000  [{'id': 35, 'name': 'Comedy'}, {'id': 18, 'nam...   \n2      3300000                      [{'id': 18, 'name': 'Drama'}]   \n3      1200000  [{'id': 53, 'name': 'Thriller'}, {'id': 18, 'n...   \n4            0  [{'id': 28, 'name': 'Action'}, {'id': 53, 'nam...   \n...        ...                                                ...   \n2995         0  [{'id': 35, 'name': 'Comedy'}, {'id': 10749, '...   \n2996         0  [{'id': 18, 'name': 'Drama'}, {'id': 10402, 'n...   \n2997  65000000  [{'id': 80, 'name': 'Crime'}, {'id': 28, 'name...   \n2998  42000000  [{'id': 35, 'name': 'Comedy'}, {'id': 10749, '...   \n2999  35000000  [{'id': 53, 'name': 'Thriller'}, {'id': 28, 'n...   \n\n     original_language  popularity  \\\n0                    0    6.575393   \n1                    0    8.248895   \n2                    0   64.299990   \n3                   hi    3.174936   \n4                    5    1.148070   \n...                ...         ...   \n2995                 0    9.853270   \n2996                 7    3.727996   \n2997                 0   14.482345   \n2998                 0   15.725542   \n2999                 0   10.512109   \n\n                                   production_companies release_date  runtime  \n0     [{'name': 'Paramount Pictures', 'id': 4}, {'na...      2/20/15     93.0  \n1           [{'name': 'Walt Disney Pictures', 'id': 2}]       8/6/04    113.0  \n2     [{'name': 'Bold Films', 'id': 2266}, {'name': ...     10/10/14    105.0  \n3                                                   NaN       3/9/12    122.0  \n4                                                   NaN       2/5/09    118.0  \n...                                                 ...          ...      ...  \n2995  [{'name': 'Warner Bros.', 'id': 6194}, {'name'...      4/22/94    102.0  \n2996  [{'name': 'Memfis Film', 'id': 321}, {'name': ...      3/28/13    102.0  \n2997  [{'name': 'New Line Cinema', 'id': 12}, {'name...     10/11/96    120.0  \n2998  [{'name': 'Jersey Films', 'id': 216}, {'name':...      1/16/04     90.0  \n2999  [{'name': 'Lions Gate Films', 'id': 35}, {'nam...      9/22/11    106.0  \n\n[3000 rows x 7 columns]",
      "text/html": "<div>\n<style scoped>\n    .dataframe tbody tr th:only-of-type {\n        vertical-align: middle;\n    }\n\n    .dataframe tbody tr th {\n        vertical-align: top;\n    }\n\n    .dataframe thead th {\n        text-align: right;\n    }\n</style>\n<table border=\"1\" class=\"dataframe\">\n  <thead>\n    <tr style=\"text-align: right;\">\n      <th></th>\n      <th>budget</th>\n      <th>genres</th>\n      <th>original_language</th>\n      <th>popularity</th>\n      <th>production_companies</th>\n      <th>release_date</th>\n      <th>runtime</th>\n    </tr>\n  </thead>\n  <tbody>\n    <tr>\n      <th>0</th>\n      <td>14000000</td>\n      <td>[{'id': 35, 'name': 'Comedy'}]</td>\n      <td>0</td>\n      <td>6.575393</td>\n      <td>[{'name': 'Paramount Pictures', 'id': 4}, {'na...</td>\n      <td>2/20/15</td>\n      <td>93.0</td>\n    </tr>\n    <tr>\n      <th>1</th>\n      <td>40000000</td>\n      <td>[{'id': 35, 'name': 'Comedy'}, {'id': 18, 'nam...</td>\n      <td>0</td>\n      <td>8.248895</td>\n      <td>[{'name': 'Walt Disney Pictures', 'id': 2}]</td>\n      <td>8/6/04</td>\n      <td>113.0</td>\n    </tr>\n    <tr>\n      <th>2</th>\n      <td>3300000</td>\n      <td>[{'id': 18, 'name': 'Drama'}]</td>\n      <td>0</td>\n      <td>64.299990</td>\n      <td>[{'name': 'Bold Films', 'id': 2266}, {'name': ...</td>\n      <td>10/10/14</td>\n      <td>105.0</td>\n    </tr>\n    <tr>\n      <th>3</th>\n      <td>1200000</td>\n      <td>[{'id': 53, 'name': 'Thriller'}, {'id': 18, 'n...</td>\n      <td>hi</td>\n      <td>3.174936</td>\n      <td>NaN</td>\n      <td>3/9/12</td>\n      <td>122.0</td>\n    </tr>\n    <tr>\n      <th>4</th>\n      <td>0</td>\n      <td>[{'id': 28, 'name': 'Action'}, {'id': 53, 'nam...</td>\n      <td>5</td>\n      <td>1.148070</td>\n      <td>NaN</td>\n      <td>2/5/09</td>\n      <td>118.0</td>\n    </tr>\n    <tr>\n      <th>...</th>\n      <td>...</td>\n      <td>...</td>\n      <td>...</td>\n      <td>...</td>\n      <td>...</td>\n      <td>...</td>\n      <td>...</td>\n    </tr>\n    <tr>\n      <th>2995</th>\n      <td>0</td>\n      <td>[{'id': 35, 'name': 'Comedy'}, {'id': 10749, '...</td>\n      <td>0</td>\n      <td>9.853270</td>\n      <td>[{'name': 'Warner Bros.', 'id': 6194}, {'name'...</td>\n      <td>4/22/94</td>\n      <td>102.0</td>\n    </tr>\n    <tr>\n      <th>2996</th>\n      <td>0</td>\n      <td>[{'id': 18, 'name': 'Drama'}, {'id': 10402, 'n...</td>\n      <td>7</td>\n      <td>3.727996</td>\n      <td>[{'name': 'Memfis Film', 'id': 321}, {'name': ...</td>\n      <td>3/28/13</td>\n      <td>102.0</td>\n    </tr>\n    <tr>\n      <th>2997</th>\n      <td>65000000</td>\n      <td>[{'id': 80, 'name': 'Crime'}, {'id': 28, 'name...</td>\n      <td>0</td>\n      <td>14.482345</td>\n      <td>[{'name': 'New Line Cinema', 'id': 12}, {'name...</td>\n      <td>10/11/96</td>\n      <td>120.0</td>\n    </tr>\n    <tr>\n      <th>2998</th>\n      <td>42000000</td>\n      <td>[{'id': 35, 'name': 'Comedy'}, {'id': 10749, '...</td>\n      <td>0</td>\n      <td>15.725542</td>\n      <td>[{'name': 'Jersey Films', 'id': 216}, {'name':...</td>\n      <td>1/16/04</td>\n      <td>90.0</td>\n    </tr>\n    <tr>\n      <th>2999</th>\n      <td>35000000</td>\n      <td>[{'id': 53, 'name': 'Thriller'}, {'id': 28, 'n...</td>\n      <td>0</td>\n      <td>10.512109</td>\n      <td>[{'name': 'Lions Gate Films', 'id': 35}, {'nam...</td>\n      <td>9/22/11</td>\n      <td>106.0</td>\n    </tr>\n  </tbody>\n</table>\n<p>3000 rows × 7 columns</p>\n</div>"
     },
     "execution_count": 262,
     "metadata": {},
     "output_type": "execute_result"
    }
   ],
   "source": [
    "\n",
    "\n",
    "features.replace(to_replace=langauges, value=languageId)"
   ],
   "metadata": {
    "collapsed": false,
    "ExecuteTime": {
     "end_time": "2023-10-26T12:55:45.435194Z",
     "start_time": "2023-10-26T12:55:45.423945Z"
    }
   }
  },
  {
   "cell_type": "code",
   "execution_count": 263,
   "outputs": [
    {
     "ename": "TypeError",
     "evalue": "string indices must be integers, not 'str'",
     "output_type": "error",
     "traceback": [
      "\u001B[0;31m---------------------------------------------------------------------------\u001B[0m",
      "\u001B[0;31mTypeError\u001B[0m                                 Traceback (most recent call last)",
      "Cell \u001B[0;32mIn[263], line 7\u001B[0m\n\u001B[1;32m      4\u001B[0m after \u001B[38;5;241m=\u001B[39m []\n\u001B[1;32m      5\u001B[0m \u001B[38;5;28;01mfor\u001B[39;00m row \u001B[38;5;129;01min\u001B[39;00m features:\n\u001B[0;32m----> 7\u001B[0m     before\u001B[38;5;241m.\u001B[39mappend(\u001B[43mrow\u001B[49m\u001B[43m[\u001B[49m\u001B[38;5;124;43m'\u001B[39;49m\u001B[38;5;124;43mproduction_companies\u001B[39;49m\u001B[38;5;124;43m'\u001B[39;49m\u001B[43m]\u001B[49m)\n\u001B[1;32m      8\u001B[0m     \u001B[38;5;28;01mtry\u001B[39;00m:\n\u001B[1;32m      9\u001B[0m         after\u001B[38;5;241m.\u001B[39mappend(convertProductComp(row[\u001B[38;5;124m'\u001B[39m\u001B[38;5;124mproduction_companies\u001B[39m\u001B[38;5;124m'\u001B[39m]))\n",
      "\u001B[0;31mTypeError\u001B[0m: string indices must be integers, not 'str'"
     ]
    }
   ],
   "source": [
    "# Dette fungerer ikke!\n",
    "features.dropna(subset=['production_companies'], inplace=True)\n",
    "\n",
    "before = []\n",
    "after = []\n",
    "for row in features:\n",
    "\n",
    "    before.append(row['production_companies'])\n",
    "    try:\n",
    "        after.append(convertProductComp(row['production_companies']))\n",
    "    except:\n",
    "        features.drop(row['id'])\n",
    "#    if type(row) == float(): print(row)\n",
    "features.replace(before, after)\n",
    "\n",
    "features.head(15)\n"
   ],
   "metadata": {
    "collapsed": false,
    "ExecuteTime": {
     "end_time": "2023-10-26T12:55:46.525260Z",
     "start_time": "2023-10-26T12:55:46.514380Z"
    }
   }
  },
  {
   "cell_type": "code",
   "execution_count": 251,
   "outputs": [],
   "source": [
    "features"
   ],
   "metadata": {
    "collapsed": false,
    "ExecuteTime": {
     "end_time": "2023-10-26T12:51:18.576814Z",
     "start_time": "2023-10-26T12:51:18.572186Z"
    }
   }
  },
  {
   "cell_type": "markdown",
   "metadata": {},
   "source": [
    "# ML"
   ]
  },
  {
   "cell_type": "code",
   "execution_count": null,
   "metadata": {},
   "outputs": [],
   "source": []
  },
  {
   "cell_type": "code",
   "execution_count": null,
   "metadata": {},
   "outputs": [],
   "source": []
  },
  {
   "cell_type": "markdown",
   "metadata": {},
   "source": [
    "# Deploy"
   ]
  },
  {
   "cell_type": "markdown",
   "metadata": {},
   "source": []
  }
 ],
 "metadata": {
  "kernelspec": {
   "display_name": "Python 3",
   "language": "python",
   "name": "python3"
  },
  "language_info": {
   "codemirror_mode": {
    "name": "ipython",
    "version": 3
   },
   "file_extension": ".py",
   "mimetype": "text/x-python",
   "name": "python",
   "nbconvert_exporter": "python",
   "pygments_lexer": "ipython3",
   "version": "3.11.4"
  }
 },
 "nbformat": 4,
 "nbformat_minor": 2
}
