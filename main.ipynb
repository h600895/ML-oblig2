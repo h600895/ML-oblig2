{
 "cells": [
  {
   "cell_type": "code",
   "execution_count": 104,
   "metadata": {
    "ExecuteTime": {
     "end_time": "2023-11-03T16:46:01.364145Z",
     "start_time": "2023-11-03T16:46:01.360461Z"
    }
   },
   "outputs": [],
   "source": [
    "import matplotlib.pyplot as plt\n",
    "import pandas as pd\n",
    "import numpy as np\n",
    "import json\n",
    "from functions import *\n"
   ]
  },
  {
   "cell_type": "markdown",
   "metadata": {},
   "source": [
    "# Importerer filer"
   ]
  },
  {
   "cell_type": "code",
   "execution_count": 105,
   "metadata": {
    "ExecuteTime": {
     "end_time": "2023-11-03T16:46:02.331137Z",
     "start_time": "2023-11-03T16:46:01.710322Z"
    }
   },
   "outputs": [],
   "source": [
    "folder = 'tmdb-box-office-prediction'\n",
    "\n",
    "trainingData = pd.read_csv(f'{folder}/train.csv')\n",
    "testData = pd.read_csv(f'{folder}/test.csv')\n"
   ]
  },
  {
   "cell_type": "markdown",
   "source": [
    "# Visualiserer data\n",
    "\n"
   ],
   "metadata": {
    "collapsed": false
   }
  },
  {
   "cell_type": "code",
   "execution_count": 106,
   "outputs": [
    {
     "data": {
      "text/plain": "budget\n0           812\n15000000     72\n40000000     71\n25000000     71\n5000000      68\n           ... \n747000        1\n1119000       1\n65000         1\n1750000       1\n1135654       1\nName: count, Length: 406, dtype: int64"
     },
     "execution_count": 106,
     "metadata": {},
     "output_type": "execute_result"
    }
   ],
   "source": [
    "trainingData['budget'].value_counts()"
   ],
   "metadata": {
    "collapsed": false,
    "ExecuteTime": {
     "end_time": "2023-11-03T16:46:02.336324Z",
     "start_time": "2023-11-03T16:46:02.333287Z"
    }
   }
  },
  {
   "cell_type": "code",
   "execution_count": 107,
   "outputs": [],
   "source": [
    "trainingData['budget'] = trainingData['budget'].mask(trainingData['budget']==0).fillna(trainingData['budget'].mean())"
   ],
   "metadata": {
    "collapsed": false,
    "ExecuteTime": {
     "end_time": "2023-11-03T16:46:02.339899Z",
     "start_time": "2023-11-03T16:46:02.337279Z"
    }
   }
  },
  {
   "cell_type": "markdown",
   "source": [],
   "metadata": {
    "collapsed": false
   }
  },
  {
   "cell_type": "markdown",
   "metadata": {},
   "source": [
    "## Deler inn i features og label"
   ]
  },
  {
   "cell_type": "code",
   "execution_count": 108,
   "metadata": {
    "ExecuteTime": {
     "end_time": "2023-11-03T16:46:02.991080Z",
     "start_time": "2023-11-03T16:46:02.979430Z"
    }
   },
   "outputs": [],
   "source": [
    "dropFields = ['homepage', 'original_title', 'imdb_id',\n",
    "              'status', 'title', 'tagline', 'poster_path', 'overview', 'belongs_to_collection']\n",
    "dropFields2 = ['Keywords', 'cast', 'crew', 'spoken_languages', 'production_countries', 'production_companies', 'genres']\n",
    "trainingData = trainingData.drop(columns=dropFields + dropFields2)\n",
    "#print(trainingData.size)"
   ]
  },
  {
   "cell_type": "code",
   "execution_count": 109,
   "outputs": [
    {
     "data": {
      "text/plain": "Index(['id', 'budget', 'original_language', 'popularity', 'release_date',\n       'runtime', 'revenue'],\n      dtype='object')"
     },
     "execution_count": 109,
     "metadata": {},
     "output_type": "execute_result"
    }
   ],
   "source": [
    "trainingData.keys()"
   ],
   "metadata": {
    "collapsed": false,
    "ExecuteTime": {
     "end_time": "2023-11-03T16:46:03.416377Z",
     "start_time": "2023-11-03T16:46:03.408334Z"
    }
   }
  },
  {
   "cell_type": "code",
   "execution_count": 110,
   "outputs": [],
   "source": [
    "#mean_value =\n",
    "#trainingData[''].fillna(value=mean_value, inplace=True)"
   ],
   "metadata": {
    "collapsed": false,
    "ExecuteTime": {
     "end_time": "2023-11-03T16:46:03.884084Z",
     "start_time": "2023-11-03T16:46:03.877797Z"
    }
   }
  },
  {
   "cell_type": "markdown",
   "source": [
    "### Konverterer string til int"
   ],
   "metadata": {
    "collapsed": false
   }
  },
  {
   "cell_type": "code",
   "execution_count": 111,
   "outputs": [],
   "source": [
    "trainingData.head(10)\n",
    "trainingData['original_language'].value_counts()\n",
    "\n",
    "langauges = ['en', 'ja', 'ru', 'fr', 'no', 'ko', 'zh', 'sv', 'cn', 'es', 'id', 'hi', 'it', 'de', 'ta', 'nl', 'pt', 'fa', 'da', 'ro', 'te', 'hu', 'ml', 'pl', 'fi', 'ur', 'he', 'el', 'ar', 'nb', 'vi', 'mr', 'cs', 'sr', 'bn', 'tr']\n",
    "languageId = [x for x in range(len(langauges))]\n",
    "\n",
    "trainingData = trainingData.replace(to_replace=langauges, value=languageId)\n",
    "\n",
    "\n"
   ],
   "metadata": {
    "collapsed": false,
    "ExecuteTime": {
     "end_time": "2023-11-03T16:46:04.537489Z",
     "start_time": "2023-11-03T16:46:04.486636Z"
    }
   }
  },
  {
   "cell_type": "markdown",
   "metadata": {},
   "source": [
    "# Renser dataene"
   ]
  },
  {
   "cell_type": "code",
   "execution_count": 112,
   "outputs": [
    {
     "data": {
      "text/plain": "'def convertProductComp(field):\\n    field = field.replace(\"\\'\", \\'\"\\')\\n    data = json.loads(field)\\n    indexes = [item[\\'id\\'] for item in data]\\n    print(indexes)\\n    return indexes'"
     },
     "execution_count": 112,
     "metadata": {},
     "output_type": "execute_result"
    }
   ],
   "source": [
    "'''def convertProductComp(field):\n",
    "    field = field.replace(\"'\", '\"')\n",
    "    data = json.loads(field)\n",
    "    indexes = [item['id'] for item in data]\n",
    "    print(indexes)\n",
    "    return indexes'''"
   ],
   "metadata": {
    "collapsed": false,
    "ExecuteTime": {
     "end_time": "2023-11-03T16:46:05.130684Z",
     "start_time": "2023-11-03T16:46:05.127179Z"
    }
   }
  },
  {
   "cell_type": "code",
   "execution_count": 113,
   "outputs": [],
   "source": [
    "# Convert date to milliseconds\n",
    "from datetime import datetime\n",
    "\n",
    "for key in trainingData['release_date'].keys():\n",
    "    try:\n",
    "        date_string = str(trainingData['release_date'][key])\n",
    "\n",
    "        date_obj = datetime.strptime(date_string, '%m/%d/%y')\n",
    "        epoch = datetime(1970, 1, 1)\n",
    "        time_difference = date_obj - epoch\n",
    "\n",
    "        milliseconds = int(time_difference.total_seconds() * 1000)\n",
    "        trainingData = trainingData.replace(trainingData['release_date'][key], milliseconds)\n",
    "    except:\n",
    "        trainingData = trainingData.drop([key])\n",
    "\n"
   ],
   "metadata": {
    "collapsed": false,
    "ExecuteTime": {
     "end_time": "2023-11-03T16:46:06.192909Z",
     "start_time": "2023-11-03T16:46:05.396226Z"
    }
   }
  },
  {
   "cell_type": "code",
   "execution_count": 114,
   "outputs": [],
   "source": [
    "# Replace all NaN budget values with mean value\n",
    "\n",
    "meanVal = trainingData['budget'].mean()\n",
    "\n",
    "trainingData['budget'].fillna(meanVal, inplace=True)\n",
    "\n",
    "# Replace all NaN runtime values with mean value\n",
    "meanVal = trainingData['runtime'].mean()\n",
    "\n",
    "trainingData['runtime'].fillna(meanVal, inplace=True)\n"
   ],
   "metadata": {
    "collapsed": false,
    "ExecuteTime": {
     "end_time": "2023-11-03T16:46:06.196713Z",
     "start_time": "2023-11-03T16:46:06.195021Z"
    }
   }
  },
  {
   "cell_type": "code",
   "execution_count": 115,
   "outputs": [
    {
     "data": {
      "text/plain": "Empty DataFrame\nColumns: [id, budget, original_language, popularity, release_date, runtime, revenue]\nIndex: []",
      "text/html": "<div>\n<style scoped>\n    .dataframe tbody tr th:only-of-type {\n        vertical-align: middle;\n    }\n\n    .dataframe tbody tr th {\n        vertical-align: top;\n    }\n\n    .dataframe thead th {\n        text-align: right;\n    }\n</style>\n<table border=\"1\" class=\"dataframe\">\n  <thead>\n    <tr style=\"text-align: right;\">\n      <th></th>\n      <th>id</th>\n      <th>budget</th>\n      <th>original_language</th>\n      <th>popularity</th>\n      <th>release_date</th>\n      <th>runtime</th>\n      <th>revenue</th>\n    </tr>\n  </thead>\n  <tbody>\n  </tbody>\n</table>\n</div>"
     },
     "execution_count": 115,
     "metadata": {},
     "output_type": "execute_result"
    }
   ],
   "source": [
    "nan_mask = trainingData.isna()\n",
    "\n",
    "# Filter the DataFrame to show rows with NaN values\n",
    "rows_with_nan = trainingData[nan_mask.any(axis=1)]\n",
    "\n",
    "rows_with_nan"
   ],
   "metadata": {
    "collapsed": false,
    "ExecuteTime": {
     "end_time": "2023-11-03T16:46:06.201269Z",
     "start_time": "2023-11-03T16:46:06.198884Z"
    }
   }
  },
  {
   "cell_type": "markdown",
   "source": [
    "# Visualisering av data\n",
    "\n",
    "Vi sjekker hvordan budjettet til filmene fordeler seg og kan se at mange filer manger budjett (0) og vi setter derfor inn gjennomsnitt her"
   ],
   "metadata": {
    "collapsed": false
   }
  },
  {
   "cell_type": "code",
   "execution_count": 116,
   "outputs": [
    {
     "data": {
      "text/plain": "[]"
     },
     "execution_count": 116,
     "metadata": {},
     "output_type": "execute_result"
    },
    {
     "data": {
      "text/plain": "<Figure size 640x480 with 1 Axes>",
      "image/png": "[encoded data removed]"
     },
     "metadata": {},
     "output_type": "display_data"
    }
   ],
   "source": [
    "fig, ax = plt.subplots()\n",
    "trainingData['budget'].hist(ax=ax)\n",
    "ax.set_xlabel =('Budget')\n",
    "ax.set_ylabel =('Frequency')\n",
    "ax.set_title('Historgram showing movies budget')\n",
    "plt.plot()"
   ],
   "metadata": {
    "collapsed": false,
    "ExecuteTime": {
     "end_time": "2023-11-03T16:46:07.757285Z",
     "start_time": "2023-11-03T16:46:07.648699Z"
    }
   }
  },
  {
   "cell_type": "markdown",
   "source": [
    "Vi kan se at det er en sammenheng mellom budget og revenue, hvor grønn er lavt budget og det gjennspeilter noe revenue."
   ],
   "metadata": {
    "collapsed": false
   }
  },
  {
   "cell_type": "markdown",
   "source": [
    "### Budsjett mot revenue"
   ],
   "metadata": {
    "collapsed": false
   }
  },
  {
   "cell_type": "code",
   "execution_count": 117,
   "outputs": [
    {
     "data": {
      "text/plain": "<Figure size 800x600 with 1 Axes>",
      "image/png": "[encoded data removed]"
     },
     "metadata": {},
     "output_type": "display_data"
    }
   ],
   "source": [
    "budget = trainingData['budget']\n",
    "meanBudget = budget.mean()\n",
    "fig, ax = plt.subplots(figsize=(8,6))\n",
    "ax.scatter(x=trainingData[budget < meanBudget]['budget'], y=trainingData[budget < meanBudget]['revenue'], marker='s', color='green')\n",
    "ax.scatter(x=trainingData[budget >= meanBudget]['budget'], y=trainingData[budget >= meanBudget]['revenue'], marker='^', color='blue')\n",
    "plt.show()"
   ],
   "metadata": {
    "collapsed": false,
    "ExecuteTime": {
     "end_time": "2023-11-03T16:46:09.280405Z",
     "start_time": "2023-11-03T16:46:09.193158Z"
    }
   }
  },
  {
   "cell_type": "markdown",
   "source": [
    "Se om det er en sammenheng mellom språk og revenue"
   ],
   "metadata": {
    "collapsed": false
   }
  },
  {
   "cell_type": "code",
   "execution_count": 118,
   "outputs": [
    {
     "data": {
      "text/plain": "original_language\n0     2056\n3       67\n2       36\n1       35\n11      33\n9       33\n12      22\n8       16\n6       15\n5       14\n13      14\n14      13\n7        7\n15       6\n17       4\n16       4\n18       4\n19       3\n35       2\n26       1\n34       1\n21       1\n30       1\n29       1\n4        1\n27       1\n25       1\n32       1\n24       1\n31       1\n20       1\n33       1\n10       1\nName: count, dtype: int64"
     },
     "execution_count": 118,
     "metadata": {},
     "output_type": "execute_result"
    }
   ],
   "source": [
    "lang = trainingData['original_language']\n",
    "\n",
    "lang.value_counts()"
   ],
   "metadata": {
    "collapsed": false,
    "ExecuteTime": {
     "end_time": "2023-11-03T16:46:10.485244Z",
     "start_time": "2023-11-03T16:46:10.480505Z"
    }
   }
  },
  {
   "cell_type": "code",
   "execution_count": 97,
   "outputs": [],
   "source": [],
   "metadata": {
    "collapsed": false,
    "ExecuteTime": {
     "end_time": "2023-11-03T16:42:50.768214Z",
     "start_time": "2023-11-03T16:42:50.766405Z"
    }
   }
  },
  {
   "cell_type": "code",
   "execution_count": 98,
   "outputs": [],
   "source": [
    "\n",
    "#plt.show()"
   ],
   "metadata": {
    "collapsed": false,
    "ExecuteTime": {
     "end_time": "2023-11-03T16:42:51.281853Z",
     "start_time": "2023-11-03T16:42:51.276093Z"
    }
   }
  },
  {
   "cell_type": "markdown",
   "source": [
    "### Orginalt språk mot revenue"
   ],
   "metadata": {
    "collapsed": false
   }
  },
  {
   "cell_type": "markdown",
   "source": [
    "Skilt ut de 4 språkene som forekommer flest ganger og en for alle andre språk. Vi kan se at engelsk skiller seg ut, men ellers er det noe uklart"
   ],
   "metadata": {
    "collapsed": false
   }
  },
  {
   "cell_type": "code",
   "execution_count": 122,
   "outputs": [
    {
     "data": {
      "text/plain": "<Figure size 800x600 with 1 Axes>",
      "image/png": "[encoded data removed]"
     },
     "metadata": {},
     "output_type": "display_data"
    }
   ],
   "source": [
    "lang = trainingData['original_language']\n",
    "meanBudget = budget.mean()\n",
    "fig, ax = plt.subplots(figsize=(8,6))\n",
    "\n",
    "ax.scatter(x=trainingData[lang == 0]['original_language'], y=trainingData[lang == 0]['revenue'], marker='s', color='green', label=langauges[0].capitalize())\n",
    "ax.scatter(x=trainingData[lang == 1]['original_language'], y=trainingData[lang == 1]['revenue'], marker='^', color='blue', label=langauges[1].capitalize())\n",
    "ax.scatter(x=trainingData[lang == 2]['original_language'], y=trainingData[lang == 2]['revenue'], marker='^', color='red', label=langauges[2].capitalize())\n",
    "ax.scatter(x=trainingData[lang == 3]['original_language'], y=trainingData[lang == 3]['revenue'], marker='^', color='yellow', label=langauges[3].capitalize())\n",
    "ax.scatter(x=trainingData[lang >= 4]['original_language'], y=trainingData[lang >= 4]['revenue'], marker='^', color='purple', label='Annet')\n",
    "plt.legend()\n",
    "plt.show()"
   ],
   "metadata": {
    "collapsed": false,
    "ExecuteTime": {
     "end_time": "2023-11-03T16:49:12.565298Z",
     "start_time": "2023-11-03T16:49:12.473821Z"
    }
   }
  },
  {
   "cell_type": "markdown",
   "metadata": {},
   "source": [
    "# ML"
   ]
  },
  {
   "cell_type": "code",
   "execution_count": 102,
   "outputs": [],
   "source": [
    "try:\n",
    "    label = trainingData['revenue']\n",
    "    id = trainingData['id']\n",
    "except:\n",
    "    pass\n",
    "\n",
    "features = trainingData.drop(columns='revenue')\n",
    "\n",
    "X, y = features, label"
   ],
   "metadata": {
    "collapsed": false,
    "ExecuteTime": {
     "end_time": "2023-10-27T13:15:31.762576Z",
     "start_time": "2023-10-27T13:15:31.758323Z"
    }
   }
  },
  {
   "cell_type": "code",
   "execution_count": 109,
   "metadata": {
    "ExecuteTime": {
     "end_time": "2023-10-27T13:19:46.458914Z",
     "start_time": "2023-10-27T13:19:45.857426Z"
    }
   },
   "outputs": [],
   "source": [
    "from sklearn.metrics import mean_squared_error, mean_absolute_error, r2_score\n",
    "from sklearn.linear_model import LinearRegression, BayesianRidge\n",
    "from sklearn.ensemble import RandomForestRegressor\n",
    "from sklearn.tree import DecisionTreeRegressor\n",
    "from sklearn.model_selection import train_test_split\n",
    "\n",
    "models = {\"Linear reg\":LinearRegression(),\n",
    "          \"Random forest\":RandomForestRegressor(n_estimators=100),\n",
    "          \"Decition tree\":DecisionTreeRegressor(),\n",
    "          \"Bayesian ridge\": BayesianRidge()}\n",
    "\n",
    "X_train, X_temp, y_train, y_temp = train_test_split(X, y, test_size=0.3, random_state=42)\n",
    "X_val, X_test, y_val, y_test = train_test_split(X_temp, y_temp, test_size=0.5, random_state=42)\n",
    "\n",
    "\n",
    "predModelsDict = {'test': {}, 'val':{}}\n",
    "\n",
    "for key in models.keys():\n",
    "    trainModel(models[key], X_train, y_train)\n",
    "    predModelsDict['test'][key] = predictWithModel(models[key], X_test)\n",
    "    predModelsDict['val'][key] = predictWithModel(models[key], X_val)\n",
    "\n",
    "\n",
    "\n",
    "\n",
    "\n"
   ]
  },
  {
   "cell_type": "code",
   "execution_count": 119,
   "outputs": [
    {
     "name": "stdout",
     "output_type": "stream",
     "text": [
      "\n",
      "----------Test----------\n",
      "\n",
      "Linear reg:\n",
      "Mse: 6147219223253791.0\t3.0112162729923876e+16\n",
      "Mae: 42079250.512250885\t96141945.90474087\n",
      "R2: 0.6569589468483279\t-0.3806751787986413\n",
      "\n",
      "Random forest:\n",
      "Mse: 4929686904081284.0\t3.2879093135615544e+16\n",
      "Mae: 38043802.41213889\t95078985.18319443\n",
      "R2: 0.7249024435492737\t-0.5075419258624583\n",
      "\n",
      "Decition tree:\n",
      "Mse: 1.095662248400533e+16\t4.261828902572143e+16\n",
      "Mae: 54925293.68611111\t105039030.67222223\n",
      "R2: 0.38857373075609547\t-0.954094574622036\n",
      "\n",
      "Bayesian ridge:\n",
      "Mse: 6869909550365422.0\t3.132881594045987e+16\n",
      "Mae: 42996649.46984963\t96524669.72831681\n",
      "R2: 0.6166297440151032\t-0.43646004234560376\n",
      "\n",
      "----------Val----------\n",
      "\n",
      "Linear reg:\n",
      "Mse: 2.9036463316627748e+16\t7144908920182298.0\n",
      "Mae: 98497139.97422434\t46015183.989572994\n",
      "R2: -0.6203585058844814\t0.6723982103394524\n",
      "\n",
      "Random forest:\n",
      "Mse: 3.1169917042067468e+16\t7028736350464205.0\n",
      "Mae: 93893753.14347222\t44752773.893138885\n",
      "R2: -0.7394143238479438\t0.6777248481138833\n",
      "\n",
      "Decition tree:\n",
      "Mse: 4.051983509445605e+16\t1.1991189968324588e+16\n",
      "Mae: 98920523.7\t56180198.88611111\n",
      "R2: -1.2611796325325906\t0.4501909908625523\n",
      "\n",
      "Bayesian ridge:\n",
      "Mse: 2.9181475596053652e+16\t7146929666306600.0\n",
      "Mae: 96390875.0942574\t45095154.22130932\n",
      "R2: -0.6284508096152497\t0.6723055569474825\n"
     ]
    }
   ],
   "source": [
    "# Printing results from the models\n",
    "\n",
    "mesureDict = {'mse': [], 'mae': [], 'r2': []}\n",
    "measures = {'mse': mean_squared_error, 'mae' :mean_absolute_error, 'r2':r2_score}\n",
    "\n",
    "for type in predModelsDict.keys():\n",
    "    predType = predModelsDict[type]\n",
    "    print(f'\\n{\"-\"*10}{type.capitalize()}{\"-\"*10}')\n",
    "    for key in predType.keys():\n",
    "        data_test = determineScore(y_test, predType[key], measures)\n",
    "        data_val = determineScore(y_val, predType[key], measures)\n",
    "        print(f'\\n{key}:')\n",
    "        for key1 in data_test.keys():\n",
    "            print(f\"{key1.capitalize()}: {data_test[key1]}\\t{data_val[key1]}\")\n",
    "\n",
    "            mesureDict[key1].append(data_test[key1])\n",
    "            mesureDict[key1].sort()\n",
    "            if key1.lower() == 'r2':\n",
    "                mesureDict[key1].sort(reverse=True)\n",
    "\n",
    "\n",
    "\n",
    "\n",
    "\n",
    "\n"
   ],
   "metadata": {
    "collapsed": false,
    "ExecuteTime": {
     "end_time": "2023-10-27T13:27:05.748062Z",
     "start_time": "2023-10-27T13:27:05.742508Z"
    }
   }
  },
  {
   "cell_type": "code",
   "execution_count": 106,
   "outputs": [
    {
     "name": "stdout",
     "output_type": "stream",
     "text": [
      "\n",
      "mse: \t[6623907048914402.0, 7465725108484834.0, 8021187133691922.0, 1.1062681373482244e+16]\n",
      "mae: \t[41362054.469458334, 44308334.34034504, 45325544.97828892, 54682861.329166666]\n",
      "r2: \t[0.7164725382631814, 0.6804396446987501, 0.6566638373187281, 0.5264767535739108]\n"
     ]
    }
   ],
   "source": [
    "print()\n",
    "for key in mesureDict.keys():\n",
    "    print(f'{key}: \\t{mesureDict[key]}')"
   ],
   "metadata": {
    "collapsed": false,
    "ExecuteTime": {
     "end_time": "2023-10-27T13:15:36.775549Z",
     "start_time": "2023-10-27T13:15:36.772522Z"
    }
   }
  },
  {
   "cell_type": "markdown",
   "metadata": {
    "ExecuteTime": {
     "end_time": "2023-10-27T13:05:28.025094Z",
     "start_time": "2023-10-27T13:05:28.006672Z"
    }
   },
   "source": [
    "# Deploy"
   ],
   "outputs": [
    {
     "ename": "TypeError",
     "evalue": "predictWithModel() missing 2 required positional arguments: 'y_train' and 'X_test'",
     "output_type": "error",
     "traceback": [
      "\u001B[0;31m---------------------------------------------------------------------------\u001B[0m",
      "\u001B[0;31mTypeError\u001B[0m                                 Traceback (most recent call last)",
      "Cell \u001B[0;32mIn[175], line 19\u001B[0m\n\u001B[1;32m     17\u001B[0m \u001B[38;5;28;01mfor\u001B[39;00m key \u001B[38;5;129;01min\u001B[39;00m models\u001B[38;5;241m.\u001B[39mkeys():\n\u001B[1;32m     18\u001B[0m     trainModel(models[key], X_train, y_train)\n\u001B[0;32m---> 19\u001B[0m     predModelsDict[key] \u001B[38;5;241m=\u001B[39m \u001B[43mpredictWithModel\u001B[49m\u001B[43m(\u001B[49m\u001B[43mmodels\u001B[49m\u001B[43m[\u001B[49m\u001B[43mkey\u001B[49m\u001B[43m]\u001B[49m\u001B[43m,\u001B[49m\u001B[43m \u001B[49m\u001B[43mX_train\u001B[49m\u001B[43m)\u001B[49m\n",
      "\u001B[0;31mTypeError\u001B[0m: predictWithModel() missing 2 required positional arguments: 'y_train' and 'X_test'"
     ]
    }
   ],
   "execution_count": 175
  },
  {
   "cell_type": "markdown",
   "metadata": {},
   "source": [],
   "outputs": [],
   "execution_count": null
  }
 ],
 "metadata": {
  "kernelspec": {
   "display_name": "Python 3",
   "language": "python",
   "name": "python3"
  },
  "language_info": {
   "codemirror_mode": {
    "name": "ipython",
    "version": 3
   },
   "file_extension": ".py",
   "mimetype": "text/x-python",
   "name": "python",
   "nbconvert_exporter": "python",
   "pygments_lexer": "ipython3",
   "version": "3.11.4"
  }
 },
 "nbformat": 4,
 "nbformat_minor": 2
}
